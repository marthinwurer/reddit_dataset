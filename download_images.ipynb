{
 "cells": [
  {
   "cell_type": "code",
   "execution_count": 1,
   "metadata": {},
   "outputs": [],
   "source": [
    "%reload_ext autoreload\n",
    "%autoreload 2\n",
    "# %matplotlib widget\n",
    "%matplotlib notebook"
   ]
  },
  {
   "cell_type": "code",
   "execution_count": 2,
   "metadata": {},
   "outputs": [],
   "source": [
    "import matplotlib.pyplot as plt\n",
    "import numpy as np\n",
    "import pandas\n",
    "import os\n",
    "import json\n",
    "from tqdm import tqdm"
   ]
  },
  {
   "cell_type": "code",
   "execution_count": 3,
   "metadata": {},
   "outputs": [],
   "source": [
    "blessed = pandas.read_json(\"blessed.json\")"
   ]
  },
  {
   "cell_type": "code",
   "execution_count": 4,
   "metadata": {},
   "outputs": [
    {
     "data": {
      "text/html": [
       "<div>\n",
       "<style scoped>\n",
       "    .dataframe tbody tr th:only-of-type {\n",
       "        vertical-align: middle;\n",
       "    }\n",
       "\n",
       "    .dataframe tbody tr th {\n",
       "        vertical-align: top;\n",
       "    }\n",
       "\n",
       "    .dataframe thead th {\n",
       "        text-align: right;\n",
       "    }\n",
       "</style>\n",
       "<table border=\"1\" class=\"dataframe\">\n",
       "  <thead>\n",
       "    <tr style=\"text-align: right;\">\n",
       "      <th></th>\n",
       "      <th>score</th>\n",
       "      <th>over_18</th>\n",
       "      <th>title</th>\n",
       "      <th>url</th>\n",
       "      <th>subreddit</th>\n",
       "      <th>domain</th>\n",
       "    </tr>\n",
       "  </thead>\n",
       "  <tbody>\n",
       "    <tr>\n",
       "      <th>2912</th>\n",
       "      <td>55</td>\n",
       "      <td>False</td>\n",
       "      <td>blessed_energy_drink</td>\n",
       "      <td>https://i.redd.it/vlxnd7b8eqd31.jpg</td>\n",
       "      <td>blessedimages</td>\n",
       "      <td>i.redd.it</td>\n",
       "    </tr>\n",
       "    <tr>\n",
       "      <th>3416</th>\n",
       "      <td>26</td>\n",
       "      <td>False</td>\n",
       "      <td>Blessed_Band</td>\n",
       "      <td>https://i.redd.it/h8trufrxeqd31.jpg</td>\n",
       "      <td>blessedimages</td>\n",
       "      <td>i.redd.it</td>\n",
       "    </tr>\n",
       "    <tr>\n",
       "      <th>5008</th>\n",
       "      <td>78</td>\n",
       "      <td>False</td>\n",
       "      <td>blessed_masterchief</td>\n",
       "      <td>https://i.redd.it/q9xdrub7hqd31.jpg</td>\n",
       "      <td>blessedimages</td>\n",
       "      <td>i.redd.it</td>\n",
       "    </tr>\n",
       "    <tr>\n",
       "      <th>13207</th>\n",
       "      <td>2326</td>\n",
       "      <td>False</td>\n",
       "      <td>Blessed_ride</td>\n",
       "      <td>https://i.redd.it/xewokc0ptqd31.jpg</td>\n",
       "      <td>blessedimages</td>\n",
       "      <td>i.redd.it</td>\n",
       "    </tr>\n",
       "    <tr>\n",
       "      <th>13664</th>\n",
       "      <td>106</td>\n",
       "      <td>False</td>\n",
       "      <td>Blessed Shark</td>\n",
       "      <td>https://i.redd.it/e8eximabemd31.jpg</td>\n",
       "      <td>blessedimages</td>\n",
       "      <td>i.redd.it</td>\n",
       "    </tr>\n",
       "    <tr>\n",
       "      <th>...</th>\n",
       "      <td>...</td>\n",
       "      <td>...</td>\n",
       "      <td>...</td>\n",
       "      <td>...</td>\n",
       "      <td>...</td>\n",
       "      <td>...</td>\n",
       "    </tr>\n",
       "    <tr>\n",
       "      <th>4686003</th>\n",
       "      <td>171</td>\n",
       "      <td>False</td>\n",
       "      <td>Blessed Pizza</td>\n",
       "      <td>https://i.redd.it/p3q2gll4cvj31.jpg</td>\n",
       "      <td>blessedimages</td>\n",
       "      <td>i.redd.it</td>\n",
       "    </tr>\n",
       "    <tr>\n",
       "      <th>4686440</th>\n",
       "      <td>68</td>\n",
       "      <td>False</td>\n",
       "      <td>blessed_podcast</td>\n",
       "      <td>https://i.imgur.com/tUJrT7U.jpg</td>\n",
       "      <td>blessedimages</td>\n",
       "      <td>i.imgur.com</td>\n",
       "    </tr>\n",
       "    <tr>\n",
       "      <th>4687046</th>\n",
       "      <td>68</td>\n",
       "      <td>False</td>\n",
       "      <td>blessed_passenger</td>\n",
       "      <td>https://i.redd.it/y7ngycwtdvj31.jpg</td>\n",
       "      <td>blessedimages</td>\n",
       "      <td>i.redd.it</td>\n",
       "    </tr>\n",
       "    <tr>\n",
       "      <th>4687199</th>\n",
       "      <td>39</td>\n",
       "      <td>False</td>\n",
       "      <td>Blessed Alignment</td>\n",
       "      <td>https://i.redd.it/3cam8f11evj31.png</td>\n",
       "      <td>blessedimages</td>\n",
       "      <td>i.redd.it</td>\n",
       "    </tr>\n",
       "    <tr>\n",
       "      <th>4689480</th>\n",
       "      <td>23</td>\n",
       "      <td>False</td>\n",
       "      <td>Blessed Smash bros</td>\n",
       "      <td>https://i.redd.it/a7ljzezmhvj31.jpg</td>\n",
       "      <td>blessedimages</td>\n",
       "      <td>i.redd.it</td>\n",
       "    </tr>\n",
       "  </tbody>\n",
       "</table>\n",
       "<p>3343 rows × 6 columns</p>\n",
       "</div>"
      ],
      "text/plain": [
       "         score  over_18                 title  \\\n",
       "2912        55    False  blessed_energy_drink   \n",
       "3416        26    False          Blessed_Band   \n",
       "5008        78    False   blessed_masterchief   \n",
       "13207     2326    False          Blessed_ride   \n",
       "13664      106    False         Blessed Shark   \n",
       "...        ...      ...                   ...   \n",
       "4686003    171    False         Blessed Pizza   \n",
       "4686440     68    False       blessed_podcast   \n",
       "4687046     68    False     blessed_passenger   \n",
       "4687199     39    False     Blessed Alignment   \n",
       "4689480     23    False    Blessed Smash bros   \n",
       "\n",
       "                                         url      subreddit       domain  \n",
       "2912     https://i.redd.it/vlxnd7b8eqd31.jpg  blessedimages    i.redd.it  \n",
       "3416     https://i.redd.it/h8trufrxeqd31.jpg  blessedimages    i.redd.it  \n",
       "5008     https://i.redd.it/q9xdrub7hqd31.jpg  blessedimages    i.redd.it  \n",
       "13207    https://i.redd.it/xewokc0ptqd31.jpg  blessedimages    i.redd.it  \n",
       "13664    https://i.redd.it/e8eximabemd31.jpg  blessedimages    i.redd.it  \n",
       "...                                      ...            ...          ...  \n",
       "4686003  https://i.redd.it/p3q2gll4cvj31.jpg  blessedimages    i.redd.it  \n",
       "4686440      https://i.imgur.com/tUJrT7U.jpg  blessedimages  i.imgur.com  \n",
       "4687046  https://i.redd.it/y7ngycwtdvj31.jpg  blessedimages    i.redd.it  \n",
       "4687199  https://i.redd.it/3cam8f11evj31.png  blessedimages    i.redd.it  \n",
       "4689480  https://i.redd.it/a7ljzezmhvj31.jpg  blessedimages    i.redd.it  \n",
       "\n",
       "[3343 rows x 6 columns]"
      ]
     },
     "execution_count": 4,
     "metadata": {},
     "output_type": "execute_result"
    }
   ],
   "source": [
    "blessed"
   ]
  },
  {
   "cell_type": "code",
   "execution_count": 5,
   "metadata": {},
   "outputs": [
    {
     "data": {
      "text/plain": [
       "(3343, 6)"
      ]
     },
     "execution_count": 5,
     "metadata": {},
     "output_type": "execute_result"
    }
   ],
   "source": [
    "blessed.shape"
   ]
  },
  {
   "cell_type": "code",
   "execution_count": null,
   "metadata": {},
   "outputs": [],
   "source": []
  }
 ],
 "metadata": {
  "kernelspec": {
   "display_name": "Python 3",
   "language": "python",
   "name": "python3"
  },
  "language_info": {
   "codemirror_mode": {
    "name": "ipython",
    "version": 3
   },
   "file_extension": ".py",
   "mimetype": "text/x-python",
   "name": "python",
   "nbconvert_exporter": "python",
   "pygments_lexer": "ipython3",
   "version": "3.7.5"
  }
 },
 "nbformat": 4,
 "nbformat_minor": 2
}
